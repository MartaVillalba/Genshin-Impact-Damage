{
 "cells": [
  {
   "cell_type": "markdown",
   "metadata": {},
   "source": [
    "# Genshin Impact Damage Analysis\n",
    "\n",
    "This project is under construction."
   ]
  }
 ],
 "metadata": {
  "kernelspec": {
   "display_name": "Python 3.7.11 ('tfm')",
   "language": "python",
   "name": "python3"
  },
  "language_info": {
   "name": "python",
   "version": "3.7.11"
  },
  "orig_nbformat": 4,
  "vscode": {
   "interpreter": {
    "hash": "185d2e6b59d12be89e057f3a6990ddaf845bf5a58386aefca6950bc75e1cb096"
   }
  }
 },
 "nbformat": 4,
 "nbformat_minor": 2
}
