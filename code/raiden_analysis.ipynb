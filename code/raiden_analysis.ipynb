{
 "cells": [
  {
   "cell_type": "markdown",
   "metadata": {},
   "source": [
    "# Genshin Impact damage analysis: Shogun Raiden"
   ]
  },
  {
   "cell_type": "markdown",
   "metadata": {},
   "source": [
    "## Character attributes\n",
    "\n",
    "..."
   ]
  },
  {
   "cell_type": "markdown",
   "metadata": {},
   "source": [
    "## Damage formula\n",
    "\n",
    "$$DMG = DMG_{out} \\cdot DM_{target} \\cdot RM_{target} \\cdot AM$$\n",
    "\n",
    "### Outgoing damage\n",
    "\n",
    "$$DMG_{out} = \\left (DMG_{base} \\cdot SM + DMG_{flat \\; bonus} \\right ) \\cdot \\left (1 + \\frac{DMG_{\\% \\; bonus}}{100} - DMG_{reduction} \\right )$$\n",
    "\n",
    "$$DMG_{base} = \\frac{DMG_{\\% \\; ability}}{100} \\cdot S$$\n",
    "\n",
    "$$S \\in \\{ATK, HP_{max}, DEF \\}$$\n",
    "\n",
    "$$DMG_{crit} = DMG_{out} \\cdot \\left (1 + \\frac{CRIT \\; DMG_ {\\%}}{100} \\right )$$\n",
    "\n",
    "### Defense\n",
    "\n",
    "$$DM_{target} = \\frac{L_{character} + 100}{k\\cdot(L_{target} + 100) + L_{character} + 100}$$\n",
    "\n",
    "$$k = \\left (1 - \\frac{DEF_{\\% \\; reduction}}{100} \\right ) \\cdot \\left (1 - \\frac{DEF_{\\% \\; ignored}}{100} \\right )$$\n",
    "\n",
    "### Resistance\n",
    "\n",
    "$$RES = \\frac{RES_{\\% \\; base} + RES_{\\% \\; bonus} - RES_{\\% \\; debuffs}}{100}$$\n",
    "\n",
    "$$RM = \n",
    "\\begin{cases} \n",
    "    1 - \\frac{RES}{2}              & \\text{if } RES < 0   \\\\\n",
    "    1 - RES & \\text{if } 0 \\leq RES < 0.75 \\\\\n",
    "    \\frac{1}{4 \\cdot RES + 1} & \\text{if } RES \\geq 0.75\n",
    "\\end{cases}\n",
    "$$\n",
    "\n",
    "### Amplifying multiplier (reactions)\n",
    "\n",
    "..."
   ]
  },
  {
   "cell_type": "markdown",
   "metadata": {},
   "source": [
    "## Analysis"
   ]
  },
  {
   "cell_type": "code",
   "execution_count": 1,
   "metadata": {},
   "outputs": [],
   "source": [
    "from character_data.raiden_shogun import RaidenShogun"
   ]
  },
  {
   "cell_type": "code",
   "execution_count": 2,
   "metadata": {},
   "outputs": [],
   "source": [
    "my_raiden_data = {\n",
    "    'Name': 'Raiden Shogun',\n",
    "    'Constellation': 'C0',\n",
    "    'Level': 90,\n",
    "    'ATK': 1982,\n",
    "    'CRIT rate': 50,\n",
    "    'CRIT DMG': 144,\n",
    "    'ER': 245.2,\n",
    "    'Electro DMG': 0,\n",
    "    'Normal Attack level': 1, \n",
    "    'Skill level': 9,\n",
    "    'Burst level': 10,\n",
    "    'Weapon': 'The Catch',\n",
    "    'Weapon refinement': 5,\n",
    "    'Artifacts': [\n",
    "        {'Emblem of Severed Fate': '4P'}\n",
    "    ]\n",
    "}"
   ]
  },
  {
   "cell_type": "code",
   "execution_count": 3,
   "metadata": {},
   "outputs": [
    {
     "data": {
      "text/html": [
       "<div>\n",
       "<style scoped>\n",
       "    .dataframe tbody tr th:only-of-type {\n",
       "        vertical-align: middle;\n",
       "    }\n",
       "\n",
       "    .dataframe tbody tr th {\n",
       "        vertical-align: top;\n",
       "    }\n",
       "\n",
       "    .dataframe thead th {\n",
       "        text-align: right;\n",
       "    }\n",
       "</style>\n",
       "<table border=\"1\" class=\"dataframe\">\n",
       "  <thead>\n",
       "    <tr style=\"text-align: right;\">\n",
       "      <th></th>\n",
       "      <th>Character</th>\n",
       "      <th>DMG (non crit)</th>\n",
       "      <th>DMG (crit)</th>\n",
       "      <th>Mean DMG</th>\n",
       "    </tr>\n",
       "  </thead>\n",
       "  <tbody>\n",
       "    <tr>\n",
       "      <th>0</th>\n",
       "      <td>Raiden Shogun</td>\n",
       "      <td>18140</td>\n",
       "      <td>44262</td>\n",
       "      <td>34335</td>\n",
       "    </tr>\n",
       "  </tbody>\n",
       "</table>\n",
       "</div>"
      ],
      "text/plain": [
       "       Character  DMG (non crit)  DMG (crit)  Mean DMG\n",
       "0  Raiden Shogun           18140       44262     34335"
      ]
     },
     "execution_count": 3,
     "metadata": {},
     "output_type": "execute_result"
    }
   ],
   "source": [
    "raiden = RaidenShogun(my_raiden_data)\n",
    "raiden.print_results()"
   ]
  },
  {
   "cell_type": "code",
   "execution_count": null,
   "metadata": {},
   "outputs": [],
   "source": []
  }
 ],
 "metadata": {
  "kernelspec": {
   "display_name": "Python 3.9.0 ('genshin-damage')",
   "language": "python",
   "name": "python3"
  },
  "language_info": {
   "codemirror_mode": {
    "name": "ipython",
    "version": 3
   },
   "file_extension": ".py",
   "mimetype": "text/x-python",
   "name": "python",
   "nbconvert_exporter": "python",
   "pygments_lexer": "ipython3",
   "version": "3.9.0"
  },
  "orig_nbformat": 4,
  "vscode": {
   "interpreter": {
    "hash": "997ef1f8312015721488ce9802e77892ff6d571ff6b38626a9478be7aec9a589"
   }
  }
 },
 "nbformat": 4,
 "nbformat_minor": 2
}
