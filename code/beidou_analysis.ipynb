{
 "cells": [
  {
   "cell_type": "markdown",
   "metadata": {},
   "source": [
    "# Damage analysis: Beidou"
   ]
  },
  {
   "cell_type": "code",
   "execution_count": 1,
   "metadata": {},
   "outputs": [],
   "source": [
    "from character_data.beidou import Beidou"
   ]
  },
  {
   "cell_type": "markdown",
   "metadata": {},
   "source": [
    "#### Define your Beidou"
   ]
  },
  {
   "cell_type": "code",
   "execution_count": 2,
   "metadata": {},
   "outputs": [],
   "source": [
    "my_beidou_data = {\n",
    "    'Character': 'Beidou',\n",
    "    'Description': 'My Beidou',\n",
    "    'Constellation': 'C6',\n",
    "    'Level': 80,\n",
    "    'ATK': 1757,\n",
    "    'CRIT rate': 24.5,\n",
    "    'CRIT DMG': 116.8,\n",
    "    'ER': 154.7,\n",
    "    'Electro DMG': 70.6,\n",
    "    'Normal Attack level': 1, \n",
    "    'Skill level': 10,\n",
    "    'Burst level': 10,\n",
    "    'Weapon': 'Luxurious Sea-Lord',\n",
    "    'Weapon refinement': 5,\n",
    "    'Artifacts': {\n",
    "        'Noblesse Oblige': '2P',\n",
    "        'Echoes of an Offering': '2P'\n",
    "    }\n",
    "}"
   ]
  },
  {
   "cell_type": "markdown",
   "metadata": {},
   "source": [
    "#### Calculate your Beidou damage"
   ]
  },
  {
   "cell_type": "code",
   "execution_count": 7,
   "metadata": {},
   "outputs": [
    {
     "data": {
      "text/html": [
       "<div>\n",
       "<style scoped>\n",
       "    .dataframe tbody tr th:only-of-type {\n",
       "        vertical-align: middle;\n",
       "    }\n",
       "\n",
       "    .dataframe tbody tr th {\n",
       "        vertical-align: top;\n",
       "    }\n",
       "\n",
       "    .dataframe thead th {\n",
       "        text-align: right;\n",
       "    }\n",
       "</style>\n",
       "<table border=\"1\" class=\"dataframe\">\n",
       "  <thead>\n",
       "    <tr style=\"text-align: right;\">\n",
       "      <th></th>\n",
       "      <th>Character</th>\n",
       "      <th>Description</th>\n",
       "      <th>DMG (non crit)</th>\n",
       "      <th>DMG (crit)</th>\n",
       "      <th>Mean DMG</th>\n",
       "    </tr>\n",
       "  </thead>\n",
       "  <tbody>\n",
       "    <tr>\n",
       "      <th>1</th>\n",
       "      <td>Beidou</td>\n",
       "      <td>Noblesse Oblige x2</td>\n",
       "      <td>3664</td>\n",
       "      <td>7945</td>\n",
       "      <td>4713</td>\n",
       "    </tr>\n",
       "  </tbody>\n",
       "</table>\n",
       "</div>"
      ],
      "text/plain": [
       "  Character         Description  DMG (non crit)  DMG (crit)  Mean DMG\n",
       "1    Beidou  Noblesse Oblige x2            3664        7945      4713"
      ]
     },
     "execution_count": 7,
     "metadata": {},
     "output_type": "execute_result"
    }
   ],
   "source": [
    "beidou = Beidou(my_beidou_data)\n",
    "beidou.print_results()"
   ]
  },
  {
   "cell_type": "markdown",
   "metadata": {},
   "source": [
    "#### Compare two Beidou builds\n",
    "\n",
    "##### Noblesse Oblige x2 vs. Thundering Fury x2"
   ]
  },
  {
   "cell_type": "code",
   "execution_count": 4,
   "metadata": {},
   "outputs": [],
   "source": [
    "my_beidou_data['Description'] = 'Noblesse Oblige x2'\n",
    "noblesse_beidou = Beidou(my_beidou_data)"
   ]
  },
  {
   "cell_type": "code",
   "execution_count": 5,
   "metadata": {},
   "outputs": [],
   "source": [
    "other_beidou_data = {\n",
    "    'Character': 'Beidou',\n",
    "    'Description': 'Thundering Fury x2',\n",
    "    'Constellation': 'C6',\n",
    "    'Level': 80,\n",
    "    'ATK': 1757,\n",
    "    'CRIT rate': 24.5,\n",
    "    'CRIT DMG': 116.8,\n",
    "    'ER': 154.7,\n",
    "    'Electro DMG': 70.6,\n",
    "    'Normal Attack level': 1, \n",
    "    'Skill level': 10,\n",
    "    'Burst level': 10,\n",
    "    'Weapon': 'Luxurious Sea-Lord',\n",
    "    'Weapon refinement': 5,\n",
    "    'Artifacts': {\n",
    "        'Thundering Fury': '2P',\n",
    "        'Echoes of an Offering': '2P'\n",
    "    }\n",
    "}"
   ]
  },
  {
   "cell_type": "code",
   "execution_count": 6,
   "metadata": {},
   "outputs": [
    {
     "data": {
      "text/html": [
       "<div>\n",
       "<style scoped>\n",
       "    .dataframe tbody tr th:only-of-type {\n",
       "        vertical-align: middle;\n",
       "    }\n",
       "\n",
       "    .dataframe tbody tr th {\n",
       "        vertical-align: top;\n",
       "    }\n",
       "\n",
       "    .dataframe thead th {\n",
       "        text-align: right;\n",
       "    }\n",
       "</style>\n",
       "<table border=\"1\" class=\"dataframe\">\n",
       "  <thead>\n",
       "    <tr style=\"text-align: right;\">\n",
       "      <th></th>\n",
       "      <th>Character</th>\n",
       "      <th>Description</th>\n",
       "      <th>DMG (non crit)</th>\n",
       "      <th>DMG (crit)</th>\n",
       "      <th>Mean DMG</th>\n",
       "    </tr>\n",
       "  </thead>\n",
       "  <tbody>\n",
       "    <tr>\n",
       "      <th>1</th>\n",
       "      <td>Beidou</td>\n",
       "      <td>Noblesse Oblige x2</td>\n",
       "      <td>3664</td>\n",
       "      <td>7945</td>\n",
       "      <td>4713</td>\n",
       "    </tr>\n",
       "    <tr>\n",
       "      <th>2</th>\n",
       "      <td>Beidou</td>\n",
       "      <td>Thundering Fury x2</td>\n",
       "      <td>3579</td>\n",
       "      <td>7760</td>\n",
       "      <td>4603</td>\n",
       "    </tr>\n",
       "  </tbody>\n",
       "</table>\n",
       "</div>"
      ],
      "text/plain": [
       "  Character         Description  DMG (non crit)  DMG (crit)  Mean DMG\n",
       "1    Beidou  Noblesse Oblige x2            3664        7945      4713\n",
       "2    Beidou  Thundering Fury x2            3579        7760      4603"
      ]
     },
     "execution_count": 6,
     "metadata": {},
     "output_type": "execute_result"
    }
   ],
   "source": [
    "thundering_beidou = Beidou(other_beidou_data)\n",
    "noblesse_beidou.compare_builds(thundering_beidou)"
   ]
  },
  {
   "cell_type": "code",
   "execution_count": null,
   "metadata": {},
   "outputs": [],
   "source": []
  }
 ],
 "metadata": {
  "kernelspec": {
   "display_name": "Python 3.9.0 ('genshin-damage')",
   "language": "python",
   "name": "python3"
  },
  "language_info": {
   "codemirror_mode": {
    "name": "ipython",
    "version": 3
   },
   "file_extension": ".py",
   "mimetype": "text/x-python",
   "name": "python",
   "nbconvert_exporter": "python",
   "pygments_lexer": "ipython3",
   "version": "3.9.0"
  },
  "orig_nbformat": 4,
  "vscode": {
   "interpreter": {
    "hash": "997ef1f8312015721488ce9802e77892ff6d571ff6b38626a9478be7aec9a589"
   }
  }
 },
 "nbformat": 4,
 "nbformat_minor": 2
}
