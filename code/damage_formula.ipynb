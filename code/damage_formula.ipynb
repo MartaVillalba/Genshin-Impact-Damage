{
 "cells": [
  {
   "cell_type": "markdown",
   "metadata": {},
   "source": [
    "# Damage in Genshin Impact\n",
    "\n",
    "## Damage formula\n",
    "\n",
    "$$DMG = DMG_{out} \\cdot DM_{target} \\cdot RM_{target} \\cdot AM$$\n",
    "\n",
    "### Outgoing damage\n",
    "\n",
    "$$DMG_{out} = \\left (DMG_{base} \\cdot SM + DMG_{flat \\; bonus} \\right ) \\cdot \\left (1 + \\frac{DMG_{\\% \\; bonus}}{100} - DMG_{reduction} \\right )$$\n",
    "\n",
    "$$DMG_{base} = \\frac{DMG_{\\% \\; ability}}{100} \\cdot S$$\n",
    "\n",
    "$$S \\in \\{ATK, HP_{max}, DEF \\}$$\n",
    "\n",
    "$$DMG_{crit} = DMG_{out} \\cdot \\left (1 + \\frac{CRIT \\; DMG_ {\\%}}{100} \\right )$$\n",
    "\n",
    "### Defense\n",
    "\n",
    "$$DM_{target} = \\frac{L_{character} + 100}{k\\cdot(L_{target} + 100) + L_{character} + 100}$$\n",
    "\n",
    "$$k = \\left (1 - \\frac{DEF_{\\% \\; reduction}}{100} \\right ) \\cdot \\left (1 - \\frac{DEF_{\\% \\; ignored}}{100} \\right )$$\n",
    "\n",
    "### Resistance\n",
    "\n",
    "$$RES = \\frac{RES_{\\% \\; base} + RES_{\\% \\; bonus} - RES_{\\% \\; debuffs}}{100}$$\n",
    "\n",
    "$$RM = \n",
    "\\begin{cases} \n",
    "    1 - \\frac{RES}{2}              & \\text{if } RES < 0   \\\\\n",
    "    1 - RES & \\text{if } 0 \\leq RES < 0.75 \\\\\n",
    "    \\frac{1}{4 \\cdot RES + 1} & \\text{if } RES \\geq 0.75\n",
    "\\end{cases}\n",
    "$$\n",
    "\n",
    "### Amplifying multiplier (reactions)\n",
    "\n",
    "..."
   ]
  },
  {
   "cell_type": "markdown",
   "metadata": {},
   "source": []
  }
 ],
 "metadata": {
  "kernelspec": {
   "display_name": "Python 3.9.0 ('genshin-damage')",
   "language": "python",
   "name": "python3"
  },
  "language_info": {
   "name": "python",
   "version": "3.9.0"
  },
  "orig_nbformat": 4,
  "vscode": {
   "interpreter": {
    "hash": "997ef1f8312015721488ce9802e77892ff6d571ff6b38626a9478be7aec9a589"
   }
  }
 },
 "nbformat": 4,
 "nbformat_minor": 2
}
